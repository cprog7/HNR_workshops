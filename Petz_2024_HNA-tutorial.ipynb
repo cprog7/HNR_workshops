{
 "cells": [
  {
   "cell_type": "markdown",
   "id": "73e5bc87-d928-4084-a86e-e8e83c86d7f7",
   "metadata": {},
   "source": [
    "# Tutorial Historical Network Analysis\n",
    "\n",
    "Author: Dr. Cindarella Petz, [Orcid-ID: 0000-0002-6178-7332](https://orcid.org/0000-0002-6178-7332), [petz@ieg-mainz.de](mailto:petz@ieg-mainz.de)"
   ]
  },
  {
   "cell_type": "markdown",
   "id": "391643ff-4e54-41fc-9aa3-cd0cf6a8995c",
   "metadata": {},
   "source": [
    "Some preparatory notes:\n",
    "1. Create a new folder (e.g., `HNA_project_folder`). It's good practice to keep all your datasets, scripts, and figures related to your project in there!\n",
    "2. Create a `.ipynb`-file and save it into `HNA_project_folder`.\n",
    "3. Create a folder `data` within the `HNA_project_folder` and copy your data in there.\n",
    "\n",
    "Then we are ready to start with our historical network research project!"
   ]
  },
  {
   "cell_type": "markdown",
   "id": "115d57d4-e6a8-4623-94e2-4a4e27a43697",
   "metadata": {},
   "source": [
    "First we need to import all packages used in our script.\n",
    "\n",
    "*Note: If you use the packages mentioned below for the first time, you need to install them into your current environment \"HNA\" first (you need to do this only once).*"
   ]
  },
  {
   "cell_type": "code",
   "execution_count": null,
   "id": "2b8a7b2f-a256-42d0-a1d9-c8f5bf82aeb5",
   "metadata": {},
   "outputs": [],
   "source": [
    "import networkx as nx\n",
    "import pandas as pd\n",
    "import numpy as np\n",
    "import matplotlib.pyplot as plt\n",
    "# Note: All packages you are going to import in your script should be referenced at the top of your script."
   ]
  },
  {
   "cell_type": "markdown",
   "id": "2ecec950-0935-4b11-925d-c4e87f80523a",
   "metadata": {},
   "source": [
    "## Basic Graph"
   ]
  },
  {
   "cell_type": "code",
   "execution_count": 10,
   "id": "581bf7e9-1097-4f06-a592-a0b7c705eeb3",
   "metadata": {},
   "outputs": [],
   "source": [
    "G = nx.Graph() # it is convention to name a Graph object G"
   ]
  },
  {
   "cell_type": "code",
   "execution_count": 11,
   "id": "55b86bed-b6c2-470d-8c77-385f8b7528ad",
   "metadata": {},
   "outputs": [],
   "source": [
    "# Add nodes individually\n",
    "G.add_node(\"Eleonor_of_Aquitaine\")\n",
    "G.add_node(\"Henry_II_of_England\")\n",
    "G.add_node(\"Richard_I_of_England\")"
   ]
  },
  {
   "cell_type": "code",
   "execution_count": 13,
   "id": "c5d20831-471f-4112-a7dd-9fe4b6fe6b61",
   "metadata": {},
   "outputs": [],
   "source": [
    "# Add edges individually:\n",
    "G.add_edge(\"Eleonor_of_Aquitaine\", \"Richard_I_of_England\")\n",
    "G.add_edge(\"Eleonor_of_Aquitaine\", \"Henry_II_of_England\")\n",
    "G.add_edge(\"Henry_II_of_England\", \"Richard_I_of_England\")"
   ]
  },
  {
   "cell_type": "code",
   "execution_count": 22,
   "id": "a25301a7-e309-42eb-b446-9ceb5e1ceea6",
   "metadata": {},
   "outputs": [
    {
     "name": "stdout",
     "output_type": "stream",
     "text": [
      "['Eleonor_of_Aquitaine', 'Henry_II_of_England', 'Richard_I_of_England'] \n",
      " [('Eleonor_of_Aquitaine', 'Richard_I_of_England'), ('Eleonor_of_Aquitaine', 'Henry_II_of_England'), ('Henry_II_of_England', 'Richard_I_of_England')]\n"
     ]
    }
   ],
   "source": [
    "print(G.nodes())\n",
    "print(G.edges())\n",
    "print(f'Our network has {len(G.nodes())} nodes and {len(G.edges())} links.')"
   ]
  },
  {
   "cell_type": "code",
   "execution_count": 23,
   "id": "6929d32a-30be-4182-b3a4-d117724f848b",
   "metadata": {},
   "outputs": [
    {
     "name": "stdout",
     "output_type": "stream",
     "text": [
      "['Eleonor_of_Aquitaine', 'Henry_II_of_England', 'Richard_I_of_England'] \n",
      " [('Eleonor_of_Aquitaine', 'Richard_I_of_England'), ('Henry_II_of_England', 'Richard_I_of_England')]\n"
     ]
    }
   ],
   "source": [
    "# The network gets depreciated! Let's delete an edge!\n",
    "\n",
    "G.remove_edge(\"Eleonor_of_Aquitaine\", \"Henry_II_of_England\")\n",
    "print(G.nodes())\n",
    "print(G.edges())"
   ]
  },
  {
   "cell_type": "code",
   "execution_count": null,
   "id": "8e13c174-6a22-48d2-b0c6-3e104bb4f017",
   "metadata": {},
   "outputs": [],
   "source": [
    "# Add metadata information on nodes and edges:\n",
    "\n",
    "G.add_node(\"Henry_II_of_England\", age=\"65\")\n",
    "G.add_edge(\"Eleonor_of_Aquitaine\", \"Henry_II_of_England\", year=5025)\n",
    "# or update info like this:\n",
    "G[\"Eleonor_of_Aquitaine\"][\"Henry_II_of_England\"][\"weight\"] = 8\n",
    "G[\"Eleonor_of_Aquitaine\"][\"Richard_I_of_England\"][\"sign\"] = \"positive\"\n",
    "\n",
    "print(G.nodes(data=True))\n",
    "print(G.edges(data=True))"
   ]
  },
  {
   "cell_type": "code",
   "execution_count": null,
   "id": "50ecfa38-0d58-4117-b52c-c7a677bca548",
   "metadata": {},
   "outputs": [],
   "source": [
    "for e in G.edges(data=True):\n",
    "    if G[e[0]][e[1]][\"sign\"] == \"positive\":\n",
    "        print(f'Nodes {e[0]} and {e[1]} are on good terms.')\n",
    "\n",
    "G[\"Eleonor_of_Aquitaine\"][\"Henry_II_of_England\"][1][\"sign\"] = \"negative\" \n",
    "# note: the number in brackets corresponds to the number of the edge in our graph object."
   ]
  },
  {
   "cell_type": "markdown",
   "id": "13cee8e2-28df-459e-bc5d-08a7beefa411",
   "metadata": {},
   "source": [
    "## Multigraphs"
   ]
  },
  {
   "cell_type": "code",
   "execution_count": null,
   "id": "5ab8a492-b9af-483c-a37a-3db0a63b20b5",
   "metadata": {},
   "outputs": [],
   "source": [
    "M = nx.MultiGraph() # multiple edges are possible between nodes (e.g., with different metadata) "
   ]
  },
  {
   "cell_type": "code",
   "execution_count": null,
   "id": "025b3dbb-8eca-4ac0-990e-110034a5ffd3",
   "metadata": {},
   "outputs": [],
   "source": [
    "# Adding nodes and edges and metadata information works similarly to the basic graph:\n",
    "\n",
    "M.add_node(\"Henry_II_of_England\", location=\"Normandy\")\n",
    "M.add_node(\"Eleonor_of_Aquitaine\", location=\"Aquitaine\")\n",
    "M.add_edge(\"Henry_II_of_England\", \"Eleonor_of_Aquitaine\", year=\"1154\")\n",
    "M[\"Henry_II_of_England\"][\"Eleonor_of_Aquitaine\"][\"sign\"] = \"negative\"\n",
    "\n",
    "print(M.edges(data=True))"
   ]
  },
  {
   "cell_type": "markdown",
   "id": "2457dac6-baaf-431f-ad71-02a9c2a16b9a",
   "metadata": {},
   "source": [
    "## Let's import a sample dataset!\n",
    "\n",
    "The sample dataset consists of sender and receivers of scholarly correspondences of early romanticism.\n",
    "\n",
    "-- The small sample dataset originates from the project [\"Correspondences of Early Romanticism. Edition -- Annotation - Network Research\"](https://gepris-extern.dfg.de/gepris/projekt/470517871?language=en), a cooperation of Universities of Marburg, Mainz, Trier, and Frankfurter Goethe Haus (2022-2025), focusing on the Jena and Berlin early Romanticism as an outstanding intellectual revolution of young German authors and scholars at the epochal threshold around 1800.)"
   ]
  },
  {
   "cell_type": "code",
   "execution_count": null,
   "id": "bf3f9e07-9b1b-4aec-9fc8-412dc5119292",
   "metadata": {},
   "outputs": [],
   "source": [
    "## Import a Letter Network"
   ]
  },
  {
   "cell_type": "code",
   "execution_count": null,
   "id": "a578b9b5-4ca4-4d23-9864-f743c0fac0cf",
   "metadata": {},
   "outputs": [],
   "source": [
    "data = pd.read_csv(\"sender_receiver.csv\", names=[\"letter_id\", \"date\", \"sender\", \"receiver\"], header=None)\n",
    "print(data)"
   ]
  },
  {
   "cell_type": "code",
   "execution_count": null,
   "id": "10bb7feb-903f-4271-9400-547f12567633",
   "metadata": {},
   "outputs": [],
   "source": [
    "#G2 = nx.DiGraph()\n",
    "L = nx.MultiDiGraph() # Directed Multigraph"
   ]
  },
  {
   "cell_type": "code",
   "execution_count": null,
   "id": "c2284bfd-b304-419a-97eb-c03a81df25a8",
   "metadata": {},
   "outputs": [],
   "source": [
    "# There are many ways to read in the edgelist information\n",
    "\n",
    "# Let's transform our columns into lists...\n",
    "sender = list(data[\"sender\"])\n",
    "receiver = list(data[\"receiver\"])\n",
    "dates = list(data[\"date\"])\n",
    "\n",
    "#or directly from the excel file:\n",
    "#sender = pd.read_csv(filename)['sender'].values.tolist()\n",
    "#dates = pd.read_csv(filename)['date'].values.tolist()\n",
    "#receiver = pd.read_csv(filename)['receiver'].values.tolist()\n",
    "\n",
    "# ...and iterate through them, adding edges between:\n",
    "\n",
    "for i in range(len(sender)): # as our sender, receiver, dates lists are the same length, we can pick any of them\n",
    "    L.add_edge(sender[i], receiver[i], date=dates[i])\n",
    "print(L.edges(data=True))\n",
    "\n",
    "# This automatically adds the nodes, too."
   ]
  },
  {
   "cell_type": "code",
   "execution_count": null,
   "id": "5f6d0255-5492-476b-8bdc-6b11fa5c1722",
   "metadata": {},
   "outputs": [],
   "source": [
    "# If we would like to add metadata to nodes as well:\n",
    "\n",
    "#node_metadata = pd.read_csv(filename)\n",
    "\n",
    "for i in range(len(senders):\n",
    "    L.add_node(sender[i],name=sender[i])\n",
    "    L.add_node(receiver[i],name=receiver[i]) # nodes will automatically be unique, and no doubles added "
   ]
  },
  {
   "cell_type": "code",
   "execution_count": null,
   "id": "78ed3bf8-ff57-4f3f-aeb1-7b5d80f1003d",
   "metadata": {},
   "outputs": [],
   "source": [
    "# As this is a directed network, the simple centralities don't work. \n",
    "L.degree_centrality()"
   ]
  },
  {
   "cell_type": "code",
   "execution_count": null,
   "id": "5f3696cf-f933-4cc9-949e-6582bd1ef105",
   "metadata": {},
   "outputs": [],
   "source": [
    "#Instead we need to use in- & out-degrees:\n",
    "L.in_degree()"
   ]
  },
  {
   "cell_type": "code",
   "execution_count": null,
   "id": "08a6f73d-a347-4427-bbbf-db93ed0d01c5",
   "metadata": {},
   "outputs": [],
   "source": [
    "L.out_degree()"
   ]
  },
  {
   "cell_type": "code",
   "execution_count": null,
   "id": "7479bec3-fc66-46d6-a137-396dd2965f86",
   "metadata": {},
   "outputs": [],
   "source": [
    "# Who has the greatest out-degree?\n",
    "max(nx.out_degree_centrality(L))"
   ]
  },
  {
   "cell_type": "code",
   "execution_count": null,
   "id": "8d8a956a-0c16-469d-8bda-68bcedc414ff",
   "metadata": {},
   "outputs": [],
   "source": [
    "# Simple drawing:\n",
    "\n",
    "# Set figure environment\n",
    "f = plt.figure(1,figsize=(8,6), dpi=500)\n",
    "\n",
    "# Set network layout\n",
    "pos = nx.fruchterman_reingold_layout(L) # Question for you: What other layout-algorithms are available? What is their difference?\n",
    "\n",
    "# Drawing the whole network\n",
    "nx.draw_networkx(L, pos=pos, with_labels=True, font_size=3, node_size=60, \\\n",
    "                 node_color='r', alpha=0.7, edge_color='gray')\n",
    "\n",
    "# adjust node_color according to attribute: e.g., node_color=[colors[G.nodes[node]['birthplace']] for node in G])\n",
    "# adjust node_size according to out-degree: e.g., node_size=[d**3 for n,d in G.out_degree_centrality()]\n",
    "\n",
    "# or draw each separately:\n",
    "# nx.draw_networkx_nodes(G, pos=pos, node_size=[d**3 for n,d in G.degree()], alpha=0.9, \\\n",
    "                       node_color=[colors[G.nodes[node]['birthplace']] for node in G])\n",
    "# nx.draw_networkx_labels(G, pos=pos, labels=nx.get_node_attributes(G, 'name'), font_size=9)\n",
    "# nx.draw_networkx_edges(G, pos=pos, width=1,alpha=0.3,edge_color='b')\n",
    "\n",
    "\n",
    "# Showing the figure\n",
    "plt.tight_layout()\n",
    "plt.axis('off')\n",
    "plt.show()"
   ]
  },
  {
   "cell_type": "code",
   "execution_count": null,
   "id": "f1a788df-39e9-4ba9-aa8b-666756542e68",
   "metadata": {},
   "outputs": [],
   "source": [
    "print(f'Network density is {nx.density(L)}.')"
   ]
  },
  {
   "cell_type": "code",
   "execution_count": null,
   "id": "4906cdef-d77f-46ee-890d-ed28840cfd59",
   "metadata": {},
   "outputs": [],
   "source": [
    "print(f'Network diameter is {nx.diameter(L)}.')\n",
    "\n",
    "# Question for you: Why does this error message appear?"
   ]
  },
  {
   "cell_type": "code",
   "execution_count": null,
   "id": "bbda3fea-222a-4ec7-9753-7c0c02e00291",
   "metadata": {},
   "outputs": [],
   "source": []
  },
  {
   "cell_type": "code",
   "execution_count": null,
   "id": "f98c08ab-25f9-4147-becc-2ec6c52e0b2e",
   "metadata": {},
   "outputs": [],
   "source": []
  },
  {
   "cell_type": "code",
   "execution_count": null,
   "id": "c919c963-fc46-434e-b799-687d1b07d719",
   "metadata": {},
   "outputs": [],
   "source": []
  },
  {
   "cell_type": "code",
   "execution_count": null,
   "id": "c0113a53-6d90-483d-9fe7-3fdf717fdbeb",
   "metadata": {},
   "outputs": [],
   "source": []
  },
  {
   "cell_type": "code",
   "execution_count": null,
   "id": "41d5fc30-3e9b-4d54-8d8f-a23d112079f0",
   "metadata": {},
   "outputs": [],
   "source": []
  },
  {
   "cell_type": "code",
   "execution_count": null,
   "id": "523e5544-b0c1-4817-ab0e-2f9ce2664c22",
   "metadata": {},
   "outputs": [],
   "source": []
  },
  {
   "cell_type": "code",
   "execution_count": null,
   "id": "2e502e70-2919-4d56-a227-6532a975193c",
   "metadata": {},
   "outputs": [],
   "source": []
  },
  {
   "cell_type": "code",
   "execution_count": null,
   "id": "a2d16a01-b57a-41ce-9579-c9844e6d4d5a",
   "metadata": {},
   "outputs": [],
   "source": []
  },
  {
   "cell_type": "code",
   "execution_count": null,
   "id": "c5f4db16-9ee9-4347-8e33-222a179586fc",
   "metadata": {},
   "outputs": [],
   "source": []
  },
  {
   "cell_type": "code",
   "execution_count": null,
   "id": "66180fc7-639a-45f9-aba5-8b640083564d",
   "metadata": {},
   "outputs": [],
   "source": []
  },
  {
   "cell_type": "code",
   "execution_count": null,
   "id": "b97e50c0-44ef-4100-bcf7-1e6239fa7ed6",
   "metadata": {},
   "outputs": [],
   "source": [
    "# Answer: you might want to focus on the largest (weakly connected) component WCC:\n",
    "LWCC = max(nx.connected_components(L), key=len)\n",
    "\n",
    "G_LWCC = G.subgraph(LWCC)\n",
    "print(f'Network diameter is {nx.diameter(G_LWCC)}.')"
   ]
  },
  {
   "cell_type": "code",
   "execution_count": null,
   "id": "999fd04f-6d11-42f9-a2c0-7791db1e9ae1",
   "metadata": {},
   "outputs": [],
   "source": [
    "# Other centrality measures:\n",
    "G.degree_centrality()\n",
    "G.closeness_centrality()\n",
    "G.betweeness_centrality()"
   ]
  },
  {
   "cell_type": "code",
   "execution_count": null,
   "id": "9f5fa255-0bcf-4068-a01e-cf9067d204b3",
   "metadata": {},
   "outputs": [],
   "source": [
    "# Shortest path between two nodes:\n",
    "nx.shortest_path(G, source=\"pick-name1\", target=\"pick-name2\")"
   ]
  },
  {
   "cell_type": "code",
   "execution_count": null,
   "id": "388a4b16-7505-4b85-b23e-150ae840cfb9",
   "metadata": {},
   "outputs": [],
   "source": []
  },
  {
   "cell_type": "code",
   "execution_count": null,
   "id": "6cd8a4ec-0568-47ce-97c1-b075b771b2b9",
   "metadata": {},
   "outputs": [],
   "source": []
  },
  {
   "cell_type": "code",
   "execution_count": null,
   "id": "1d6d5797-9978-4cb6-97b7-f1d396175c98",
   "metadata": {},
   "outputs": [],
   "source": []
  },
  {
   "cell_type": "code",
   "execution_count": null,
   "id": "5e4d0356-c091-46d9-b105-2cecda46bc79",
   "metadata": {},
   "outputs": [],
   "source": []
  },
  {
   "cell_type": "code",
   "execution_count": null,
   "id": "b1fe0322-73c1-4c89-8613-b070ea83d7f7",
   "metadata": {},
   "outputs": [],
   "source": []
  },
  {
   "cell_type": "code",
   "execution_count": null,
   "id": "b9442167-d068-43d3-bfca-a5fa7cdd5ef8",
   "metadata": {},
   "outputs": [],
   "source": []
  },
  {
   "cell_type": "code",
   "execution_count": null,
   "id": "6ebb1fda-50bb-4501-a10a-429c060b3cd3",
   "metadata": {},
   "outputs": [],
   "source": []
  },
  {
   "cell_type": "markdown",
   "id": "1f3b5d5b-adf0-43cd-b392-0dde05f88dde",
   "metadata": {},
   "source": [
    "## Show Case 1\n",
    "\n",
    "These examples stem from unpublished code from my own research project published in [Petz, Cindarella and Pfeffer, Jürgen (2021) Configuration to Conviction, and Configuration to Conviction. Network Structures of Political Judiciary in the Austrian Corporate State. Social Networks, vol. 66, July 2021, pp. 185–201. DOI: 10.1016/j.socnet.2021.03.001.](https://www.sciencedirect.com/science/article/abs/pii/S037887332100023X?via%5C%3Dihub)"
   ]
  },
  {
   "cell_type": "code",
   "execution_count": null,
   "id": "73411fe9-1c0e-46d4-8954-79eea8d597c8",
   "metadata": {},
   "outputs": [],
   "source": [
    "# Set fixed coordinates for a circular layout of connected paragraphs:\n",
    "\n",
    "# compute coordinates for nodes and labels on a circle:\n",
    "def coords(ll):\n",
    "    n = len(ll)\n",
    "    alphas = 2*np.pi/n * np.arange(n)\n",
    "    coordX = np.cos(alphas)\n",
    "    coordY = np.sin(alphas)\n",
    "    nodesPos = {k: [v1, v2] for k, v1, v2 in zip(ll, coordX, coordY)}  # position of nodes\n",
    "    labelsPos = {k: [v1, v2, an] for k, v1, v2, an in zip(ll, 1.2*coordX, 1.2*coordY, alphas)}  # positions of labels\n",
    "    return nodesPos, labelsPos\n",
    "\n",
    "# plot the circular graph:\n",
    "def drawGraph(G, para, level, politikkuerzel, issave):\n",
    "    nodeList = G.nodes()\n",
    "    nodesPos, labelsPos = coords(nodeList) # get coordinates for nodes and labels\n",
    "    degreeList = [G.degree(x) for x in G] # get degree list for node size\n",
    "    weightList = [e[2] for e in G.edges.data('weight')]\n",
    "    colorList = [e[2] for e in G.edges.data('color')]\n",
    "    \n",
    "    (fig, ax) = plt.subplots(figsize=(8, 8))\n",
    "    nx.draw(G, with_labels=False, node_size=degreeList, node_color=[0.25, 0.7, 0.8], pos=nodesPos, alpha=0.6, \n",
    "            width=weightList, edge_color=colorList)\n",
    "    # plot labels\n",
    "    for label in labelsPos:\n",
    "        a = labelsPos[label][2]\n",
    "        if labelsPos[label][0] < 0:\n",
    "            a = a - np.pi\n",
    "        plt.text(labelsPos[label][0], labelsPos[label][1], label, rotation=np.rad2deg(a), ha=\"center\", va=\"center\", color='black', fontsize=15)\n",
    "\n",
    "    if issave == \"save\":\n",
    "        plt.savefig('Path' + para + '_' + level + '_' + politikkuerzel + '_' + \".pdf\", dpi=1000)\n",
    "        plt.close\n",
    "    else:\n",
    "        plt.show()\n",
    "\n",
    "# set order of paragraphs:\n",
    "def baueCoocNetz(para, level, politikkuerzel, grenzwert, fallliste1, fallliste2, fallliste3, fallliste4, istranslation, issave):\n",
    "    nodeOrder = [\"HTr\", \"MartL\", \"SecOrg\", \"Explo\", \"Weap\", \"Aufru\", \"Aufsta\", \"Sland\", \"PhSafe\", \"Pollut\", \"SexOff\",\n",
    "                \"Homic\", \"Aufla\", \"PubDis\", \"Resist\", \"Samml\", \"Agitat\", \"AntiPrint\", \"Aufreiz\", \"Aufwi\", \"Gossip\",\n",
    "                \"PrintW\", \"DisRel\", \"Attem\", \"Decep\", \"Help\", \"Ignor\", \"Ommis\", \"Blackm\", \"CultTrs\", \"Embzz\", \"MalDm\",\n",
    "                \"Scam\", \"Theft\", \"AbAuth\", \"Deser\", \"Mutiny\", \"NoExtr\", \"UnRet\", \"Absorp\", \"Mitig\", \"265\"]\n",
    "    # get weights for edges\n",
    "    weightDict = ... # function computes the percentage of a set of co-occuring offenses among the sample (e.g., inquiries against NS-partisans) among the population (inquiries against all partisans)\n",
    "    # list of edges\n",
    "    edgeList = list(weightDict.keys())\n",
    "    # get colors for edges\n",
    "    colorDict = .... # function which tests whether the occurrence is above average or not\n",
    "\n",
    "    G = nx.OrderedGraph()\n",
    "    G.add_nodes_from(nodeOrder)\n",
    "    for edge in edgeList:\n",
    "        G.add_edge(edge[0], edge[1], weight=weightDict[edge])\n",
    "        if edge in colorDict:  # check if there is a color for the edge\n",
    "            G.add_edge(edge[0], edge[1], color=colorDict[edge])\n",
    "        else: # else make it grey\n",
    "            G.add_edge(edge[0], edge[1], color='gray') \n",
    "    # plot graph\n",
    "    drawGraph(G, para, level, politikkuerzel, issave)\n",
    "\n",
    "\n",
    "baueCoocNetz(\"ermittlungsgegenstand\", \"Ermittlung\", \"NS\", fallliste_ermittlung_ns, fallliste_ermittlung_kom, fallliste_ermittlung_sozi, fallliste_ermittlung, \"abbr\", \"save\")"
   ]
  },
  {
   "cell_type": "markdown",
   "id": "8e9b01b8-ba06-4a5b-8e38-4b69223ceeec",
   "metadata": {},
   "source": [
    "Compare the final results to p. 185.\n",
    "\n",
    "<img src=\"Petz-Pfeffer_2021_Configuration_to_Conviction,_Table7,_p185.png\" alt=\"Cooccurrence Networks in Petz & Pfeffer 2021\" align=\"left\" width=\"100%\" height=\"100%\" title=\"Cooccurrence Networks\">"
   ]
  },
  {
   "cell_type": "code",
   "execution_count": null,
   "id": "4756cbcb-87e5-4250-86db-cc84b2f86bfe",
   "metadata": {},
   "outputs": [],
   "source": []
  },
  {
   "cell_type": "markdown",
   "id": "c6bc785c",
   "metadata": {},
   "source": [
    "### Object-based programming\n"
   ]
  },
  {
   "cell_type": "markdown",
   "id": "e71ab0c2",
   "metadata": {},
   "source": []
  },
  {
   "cell_type": "code",
   "execution_count": null,
   "id": "43067bb1",
   "metadata": {},
   "outputs": [],
   "source": [
    "class Fall:\n",
    "\n",
    "    def __init__(self, id):\n",
    "        self.id = id  # about initialised variables above\n",
    "        self.aktennummer = []\n",
    "        self.angeklagter = []\n",
    "        self.richter = []\n",
    "        self.staatsanwalt = []\n",
    "        self.zeugen = []\n",
    "    \n",
    "    def add_angeklagter(self, angeklagter):\n",
    "        self.angeklagter.append(angeklagter)\n",
    "    \n",
    "    def add_richter(self, richter):\n",
    "        self.richter.append(richter)\n",
    "\n",
    "    def add_staatsanwalt(self, staatsanwalt):\n",
    "        self.staatsanwalt.append(staatsanwalt)\n",
    "\n",
    "    def add_zeugen(self, zeugen):\n",
    "        self.zeugen.append(zeugen)\n",
    "\n",
    "    def add_aktennummer(self, aktennummer):\n",
    "        self.aktennummer.append(aktennummer)\n",
    "\n",
    "class Fallteilnehmer:\n",
    "    def __init__(self, id):\n",
    "        self.id = id\n",
    "        self.faelle = []\n",
    "        #...\n",
    "\n",
    "class Richter(Fallteilnehmer):\n",
    "    def __init__(self, id):\n",
    "        self.id = id\n",
    "        self.faelle = []\n",
    "        self.verbindungen = {}\n",
    "        self.politorientierung = []\n",
    "        #...\n",
    "\n",
    "\n",
    "# Access these:\n",
    "Fall.id\n",
    "Fall.fallteilnehmer\n",
    "getattr(case, fallteilnehmer) \n",
    "\n",
    "# Fill these:\n",
    "# ...\n",
    "if colname == \"verfahrens_id\":\n",
    "    for i in range(0, len(verfahrensheet[colname].values)):\n",
    "        id = verfahrensheet.loc[i, colname]\n",
    "            case = Fall(id)  # create case\n",
    "            fallliste.append(case)  # add case to fallliste\n",
    "\n",
    "elif colname == \"person_id\"\n",
    "    for i in range(0, len(verfahrensheet[colname].values)):\n",
    "        attribute_id = \"a_\" + str(int(verfahrensheet.loc[i, colname]))  # create attribute_id for each element\n",
    "        angeklagter = Angeklagter(attribute_id)\n",
    "        corresponding_case_id = verfahrensheet.loc[i, 'verfahrens_id']\n",
    "        angeklagter.add_fall(corresponding_case_id)\n",
    "#...."
   ]
  },
  {
   "cell_type": "markdown",
   "id": "f6e55c43-f942-44a3-917c-eb05685af264",
   "metadata": {},
   "source": [
    "## Show Case 2\n",
    "\n",
    "These examples stem from unpublished code from my own research project published in [Petz, Cindarella and Ghawi, Raji and Pfeﬀer, Jürgen (2022). Tracking the Evolution of Communities in a Social Network of\n",
    "Intellectual Influences. Journal of Historical Network Research 2022, vol. 7, number 1, pp. 114–154. DOI:\n",
    "10.25517/jhnr.v7i1.146.](https://jhnr.net/articles/10.25517/jhnr.v7i1.146)"
   ]
  },
  {
   "cell_type": "code",
   "execution_count": 5,
   "id": "9cea8c78-ecc6-4bd6-afe5-8c1465d192cd",
   "metadata": {},
   "outputs": [],
   "source": [
    "# Defining time intervals = snapshots up to the picked date:\n",
    "# Filtering the dataset to include e.g., edges within the picked time interval"
   ]
  },
  {
   "cell_type": "markdown",
   "id": "db6b194d-b21a-4371-a0b8-2bc5a312cc88",
   "metadata": {},
   "source": [
    "### Community Detection\n",
    "(From Petz et al 2022: Tracking the Evolution of Communities..., p. 13-15)\n",
    "\n",
    "- Community = the group’s nodes have a higher probability of being connected to each other than to members of other\n",
    "groups (Fortunato 2010)\n",
    "- Pairs of nodes are more likely to be connected if they are both members of the same community, and less likely to be connected if\n",
    "they do not share communities. Identifying communities may oﬀer insight on how the network is organized; it helps to classify nodes based on their role with respect to the communities they belong to.\n",
    "- Implicitly assumes underlying structuring principle of homophily ([Dakiche, Narimene, Fatima Benbouzid-Si Tayeb, Yahya Slimani, and Karima\n",
    "Benatchba. 2019. “Tracking community evolution in social networks: A survey.” Information Processing & Management 56 (3): 1084– 1102](https://www.sciencedirect.com/science/article/abs/pii/S0306457317305551), here p. 1085; [McPherson, Miller, Lynn Smith-Lovin, and James M. Cook. 2001. “Birds of a Feather: Homophily in Social Networks.” Annual Review of Sociology 27 (1): 415– 444. DOI: https://doi.org/10.1146/annurev.soc.27.1.415.](https://doi.org/10.1146/annurev.soc.27.1.415))\n",
    "- For a comprehensive survey of different community detection methods see [Fortunato, Santo. 2010. “Community Detection in Graphs.” Physics Reports 486 (3): 75– 174. DOI: https://DOI.org/10.1016/j.physrep.2009.11.002.](https://DOI.org/10.1016/j.physrep.2009.11.002)\n",
    "\n",
    "InfoMap algorithm for directed networks\n",
    "\n",
    "`from infomap import Infomap`\n",
    "\n",
    "- Based on random walks -> different results each time, but possible to set a 'randomization seed' as entry configuration \n",
    "- Need to develop an evaluation method for results!\n",
    "\n",
    "Tracking the evolution of dynamic communities (following [Greene, Derek, Donal Doyle, and Padraig Cunningham. 2010. “Tracking the\n",
    "Evolution of Communities in Dynamic Social Networks.” In Proceedings of the 2010 International Conference on Advances in Social Networks Analysis and Mining, 176–183. ASONAM ’10. USA: IEEE Computer Society. DOI: https://doi.org/10.1109/ASONAM.2010.17.](https://doi.org/10.1109/ASONAM.2010.17)) with life-cycle events of changing compositions\n",
    "\n",
    "Standard matching evaluation: Jaccard index (calculates the similarity of in our case two sample communities by dividing the size of overlap of two communities divided by the size of the two communities combined.\n",
    "```\n",
    "def jaccard(a,b):\n",
    "    o,u = len(a.intersection(b)), len(a.union(b))\n",
    "    return o/u, o, u\n",
    "```\n",
    "We chose the Quantity Insertion measure by Boujaleb et al (2017), which reflects the quantity of members of the front community that are inserted into the step community, leading to better interpretable results. \n",
    "```\n",
    "def QI(s1,s2):\n",
    "    o = len(s1.intersection(s2))    \n",
    "    return o/len(s1)\n",
    "```\n",
    "If the similarity exceeded a matching thereshold of 0.5 (i.e. at least 50% of common members of the front community belong to the step community), the sampled front and step communities were matched."
   ]
  }
 ],
 "metadata": {
  "kernelspec": {
   "display_name": "Python 3 (ipykernel)",
   "language": "python",
   "name": "python3"
  },
  "language_info": {
   "codemirror_mode": {
    "name": "ipython",
    "version": 3
   },
   "file_extension": ".py",
   "mimetype": "text/x-python",
   "name": "python",
   "nbconvert_exporter": "python",
   "pygments_lexer": "ipython3",
   "version": "3.9.20"
  }
 },
 "nbformat": 4,
 "nbformat_minor": 5
}
